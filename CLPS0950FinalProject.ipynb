{
  "nbformat": 4,
  "nbformat_minor": 0,
  "metadata": {
    "colab": {
      "provenance": [],
      "authorship_tag": "ABX9TyMe3sN6bW1e9uVdgXu4aYox",
      "include_colab_link": true
    },
    "kernelspec": {
      "name": "python3",
      "display_name": "Python 3"
    },
    "language_info": {
      "name": "python"
    }
  },
  "cells": [
    {
      "cell_type": "markdown",
      "metadata": {
        "id": "view-in-github",
        "colab_type": "text"
      },
      "source": [
        "<a href=\"https://colab.research.google.com/github/jessieicesk8s/CLPS0950FinalProject/blob/main/CLPS0950FinalProject.ipynb\" target=\"_parent\"><img src=\"https://colab.research.google.com/assets/colab-badge.svg\" alt=\"Open In Colab\"/></a>"
      ]
    },
    {
      "cell_type": "markdown",
      "source": [
        "Hello! Welcome to Jessica's Language Detection Tool!\n",
        "\n",
        "Run the cell below, and you will be prompted to input some text. Write a few sentences worth of text in one of the following languages (English, Spanish, French, or Brazilian Portuguese) and this code will reveal which of the four languages your text was written in!"
      ],
      "metadata": {
        "id": "N3-7vQmgwgiP"
      }
    },
    {
      "cell_type": "code",
      "execution_count": null,
      "metadata": {
        "id": "86ogmgTiZA35"
      },
      "outputs": [],
      "source": [
        "#Import the counter tool to count frequency of trigrams\n",
        "from collections import Counter\n",
        "\n",
        "#Create sample text for each language to establish base patterns and trigrams\n",
        "samples = {\n",
        "    \"English\": \"This is a simple piece of English text to create a basic profile for language detection.\",\n",
        "    \"Español/Spanish\": \"Este es un fragmento simple de texto en español para crear un perfil básico para la detección del idioma.\",\n",
        "    \"Français/French\": \"Il s'agit d'un simple extrait de texte français permettant de créer un profil de base pour la détection de la langue.\",\n",
        "    \"Português/Portuguese\": \"Este é um texto simples em português para criar um perfil básico para detecção de idioma.\"}\n",
        "\n",
        "#Turn uppercase to lowercase and remove spaces from text to create accurate trigrams\n",
        "#Extract said trigrams from input text\n",
        "def get_trigrams(input_text):\n",
        "  input_text = input_text.lower().replace(\" \", \"\")\n",
        "  return [input_text[i:i+3] for i in range(len(input_text) - 2)]\n",
        "\n",
        "#Count frequency of each trigram and identify the most frequent trigrams (rank them in order of frequency)\n",
        "def build_profile(input_text, top_n=100):\n",
        "  trigrams = get_trigrams(input_text)\n",
        "  freq = Counter(trigrams)\n",
        "  most_common = freq.most_common(top_n)\n",
        "  return {trigram: rank for rank, (trigram, _) in enumerate(most_common)}\n",
        "\n",
        "#Compare the input text to existing language profiles as created above\n",
        "#Compare frequency of trigrams and add up the differences of the matching trigrams\n",
        "#Add an optional penalty for trigrams that don't exist in existing language profile to differentiate the scores; the smaller the score, the more likely it is that the input text matches the existing, detected language\n",
        "def compare_profiles(input_profile, lang_profile, penalty=200):\n",
        "  distance = 0\n",
        "  for trigram, rank in input_profile.items():\n",
        "    if trigram in lang_profile:\n",
        "      distance += abs(rank-lang_profile[trigram])\n",
        "    else:\n",
        "      distance += penalty\n",
        "  return distance\n",
        "\n",
        "#Officially create a profile for the input text to compare to the existing profiles\n",
        "#Using the distance scores, the lowest score will reveal the closest trigram match\n",
        "#The lowest trigram match *should* reveal the correct language\n",
        "def detect_language(input_text, profiles):\n",
        "  input_profile = build_profile(input_text)\n",
        "  scores = {}\n",
        "  for lang, profile in language_profiles.items():\n",
        "    score = compare_profiles(input_profile, profile)\n",
        "    scores[lang] = score\n",
        "  best_match = min(scores, key=scores.get)\n",
        "  return best_match, scores\n",
        "\n",
        "#Build profiles from sample texts\n",
        "language_profiles = {lang: build_profile(text) for lang, text in samples.items()}\n",
        "#Instruct user to input text\n",
        "input_text = input(\"Enter text: \")\n",
        "#Analyze the text profiles and match up the closest scores\n",
        "detected, all_scores = detect_language(input_text, language_profiles)\n",
        "#Print the detected language for the user to see\n",
        "print(f\"\\nDetected Language: {detected}\")"
      ]
    }
  ]
}