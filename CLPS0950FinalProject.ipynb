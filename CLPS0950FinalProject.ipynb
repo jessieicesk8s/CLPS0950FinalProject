{
  "nbformat": 4,
  "nbformat_minor": 0,
  "metadata": {
    "colab": {
      "provenance": [],
      "authorship_tag": "ABX9TyMgzlvBDlfdUKpSVPbFb8lf",
      "include_colab_link": true
    },
    "kernelspec": {
      "name": "python3",
      "display_name": "Python 3"
    },
    "language_info": {
      "name": "python"
    }
  },
  "cells": [
    {
      "cell_type": "markdown",
      "metadata": {
        "id": "view-in-github",
        "colab_type": "text"
      },
      "source": [
        "<a href=\"https://colab.research.google.com/github/jessieicesk8s/CLPS0950FinalProject/blob/main/CLPS0950FinalProject.ipynb\" target=\"_parent\"><img src=\"https://colab.research.google.com/assets/colab-badge.svg\" alt=\"Open In Colab\"/></a>"
      ]
    },
    {
      "cell_type": "code",
      "execution_count": null,
      "metadata": {
        "id": "86ogmgTiZA35"
      },
      "outputs": [],
      "source": [
        "#Do I first define the languages with sample text?\n",
        "\n",
        "#What about Test 1 being based on characters?\n",
        "#Test 2 double-checks work with bigram/trigram method?\n",
        "\n",
        "#Test 1 blah blah blah\n",
        "#\"Are we sure? Let's double-check!\"\n",
        "#Test 2\n",
        "#if tests match: result should be correct\n",
        "#if tests do not match: test 2 is likely correct, but offer explanation?\n",
        "\n",
        "#Here will be the main function\n",
        "def what_language(input_text):\n",
        "  ###\n",
        "  return language_id\n",
        "\n",
        "print(language_id)"
      ]
    }
  ]
}