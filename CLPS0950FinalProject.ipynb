{
  "nbformat": 4,
  "nbformat_minor": 0,
  "metadata": {
    "colab": {
      "provenance": [],
      "authorship_tag": "ABX9TyMO3ohTE/5JtmyU6l1zUM0E",
      "include_colab_link": true
    },
    "kernelspec": {
      "name": "python3",
      "display_name": "Python 3"
    },
    "language_info": {
      "name": "python"
    }
  },
  "cells": [
    {
      "cell_type": "markdown",
      "metadata": {
        "id": "view-in-github",
        "colab_type": "text"
      },
      "source": [
        "<a href=\"https://colab.research.google.com/github/jessieicesk8s/CLPS0950FinalProject/blob/main/CLPS0950FinalProject.ipynb\" target=\"_parent\"><img src=\"https://colab.research.google.com/assets/colab-badge.svg\" alt=\"Open In Colab\"/></a>"
      ]
    },
    {
      "cell_type": "markdown",
      "source": [
        "Hello! Welcome to Jessica's Language Detection Tool!\n",
        "\n",
        "Input a piece of text below in one of the following languages (English, Spanish, French, or Brazilian Portuguese) and this code will tell you which of the four languages your text was written in!\n"
      ],
      "metadata": {
        "id": "N3-7vQmgwgiP"
      }
    },
    {
      "cell_type": "code",
      "execution_count": 1,
      "metadata": {
        "id": "86ogmgTiZA35",
        "colab": {
          "base_uri": "https://localhost:8080/",
          "height": 105
        },
        "outputId": "b14763d3-672e-4fcd-ccd2-024a71dbcb2a"
      },
      "outputs": [
        {
          "output_type": "error",
          "ename": "SyntaxError",
          "evalue": "invalid syntax (<ipython-input-1-1803d149ee15>, line 5)",
          "traceback": [
            "\u001b[0;36m  File \u001b[0;32m\"<ipython-input-1-1803d149ee15>\"\u001b[0;36m, line \u001b[0;32m5\u001b[0m\n\u001b[0;31m    \"sp\": \"Este es un fragmento simple de texto en español para crear un perfil básico para la detección del idioma.\"\u001b[0m\n\u001b[0m        ^\u001b[0m\n\u001b[0;31mSyntaxError\u001b[0m\u001b[0;31m:\u001b[0m invalid syntax\n"
          ]
        }
      ],
      "source": [
        "#Not sure if this is a necessary step or not, but here we will define each language with sample text\n",
        "\n",
        "samples = {\n",
        "    \"en\": \"This is a simple piece of English text to create a basic profile for language detection.\"\n",
        "    \"sp\": \"Este es un fragmento simple de texto en español para crear un perfil básico para la detección del idioma.\"\n",
        "    \"fr\": \"Il s'agit d'un simple extrait de texte français permettant de créer un profil de base pour la détection de la langue.\"\n",
        "    \"por\": \"Este é um texto simples em português para criar um perfil básico para detecção de idioma.\"}\n",
        "\n",
        "def get_trigrams(input_text):\n",
        "  text = text.lower().replace(\" \", \"\")\n",
        "  return [text[i:i+3] for i in range(len(text) - 2)]\n",
        "\n",
        "from collections import Counter\n",
        "\n",
        "def build_profile(input_text, top_n=100):\n",
        "  trigrams = get_trigrams(input_text)\n",
        "  freq = Counter(trigrams)\n",
        "  most_common = freq.most_common(top_n)\n",
        "  return {trigram: rank for rank, (trigram, _) in enumerate(most_common)}\n",
        "\n",
        "def compare_profiles(input_profile, lang_profile, penalty=300):\n",
        "  distance = 0\n",
        "  for trigram, rank in input_profile.items():\n",
        "    if trigram in lang_profile:\n",
        "      distance += abs(rank-lang_profile[trigram])\n",
        "    else:\n",
        "      distance += penalty\n",
        "  return distance\n",
        "\n",
        "def detect_language(input_text, profiles):\n",
        "  input_profile = build_profile(input_text)\n",
        "  scores = {}\n",
        "  for lang, profile in language_profiles.items():\n",
        "    score = compare_profiles(input_profile, profile)\n",
        "    scores[lang] = score\n",
        "  best_match = min(scores, key=scores.get)\n",
        "  return best_match, scores\n",
        "\n",
        "language_profiles = {lang: build_profile(text) for lang, text in samples.items()}\n",
        "\n",
        "input_text = input(\"Enter text: Ventanas abiertas, puerta igual. Creí que ya no iba a pasar\")\n",
        "detected, all_scores = detect_language(input_text, language_profiles)\n",
        "print(f\"Detected Language: {detected}\")\n",
        "\n",
        "\n",
        "\n",
        "\n",
        "#English trigrams: the, and, ing, ent, ion\n",
        "#Spanish: que, ent, nte\n",
        "#French: ent, que, ait\n",
        "#Portuguese: ent, que, nte, par\n",
        "\n",
        "###\n",
        "#en_trigrams = get_trigrams(samples[\"en\"])\n",
        "#sp_trigrams = get_trigrams(samples[\"sp\"])\n",
        "#fr_trigrams = get_trigrams(samples[\"fr\"])\n",
        "#por_trigrams = get_trigrams(samples[\"por\"])\n",
        "\n",
        "\n",
        "\n",
        "#Here will be the main function\n",
        "#def what_language(input_text):\n",
        "  ###\n",
        " # return language_id\n",
        "#print(language_id)\n",
        "\n",
        "\n"
      ]
    }
  ]
}